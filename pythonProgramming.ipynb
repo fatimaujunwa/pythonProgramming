{
 "cells": [
  {
   "cell_type": "code",
   "execution_count": 3,
   "id": "0d3d95e6",
   "metadata": {},
   "outputs": [
    {
     "name": "stdout",
     "output_type": "stream",
     "text": [
      "32\n"
     ]
    }
   ],
   "source": [
    "myAge=32\n",
    "print(myAge)"
   ]
  },
  {
   "cell_type": "code",
   "execution_count": 4,
   "id": "20fd93cb",
   "metadata": {},
   "outputs": [
    {
     "name": "stdout",
     "output_type": "stream",
     "text": [
      "10.666666666666666\n"
     ]
    }
   ],
   "source": [
    "print(myAge/3)"
   ]
  },
  {
   "cell_type": "code",
   "execution_count": 5,
   "id": "5f891356",
   "metadata": {},
   "outputs": [],
   "source": [
    "myAge=33"
   ]
  },
  {
   "cell_type": "code",
   "execution_count": 6,
   "id": "a2181452",
   "metadata": {},
   "outputs": [
    {
     "name": "stdout",
     "output_type": "stream",
     "text": [
      "33\n"
     ]
    }
   ],
   "source": [
    "print(myAge)"
   ]
  },
  {
   "cell_type": "code",
   "execution_count": 7,
   "id": "b28bf67d",
   "metadata": {},
   "outputs": [
    {
     "name": "stdout",
     "output_type": "stream",
     "text": [
      "34\n"
     ]
    }
   ],
   "source": [
    "myAge=myAge+1\n",
    "print(myAge)"
   ]
  },
  {
   "cell_type": "code",
   "execution_count": 8,
   "id": "9e8901d8",
   "metadata": {},
   "outputs": [
    {
     "name": "stdout",
     "output_type": "stream",
     "text": [
      "4.52125\n"
     ]
    }
   ],
   "source": [
    "restaurantBill=36.17\n",
    "serviceCharge=0.125\n",
    "print(restaurantBill*serviceCharge)"
   ]
  },
  {
   "cell_type": "code",
   "execution_count": 9,
   "id": "4ee23618",
   "metadata": {},
   "outputs": [
    {
     "data": {
      "text/plain": [
       "int"
      ]
     },
     "execution_count": 9,
     "metadata": {},
     "output_type": "execute_result"
    }
   ],
   "source": [
    "type(myAge)"
   ]
  },
  {
   "cell_type": "code",
   "execution_count": 10,
   "id": "e3ecf47b",
   "metadata": {},
   "outputs": [
    {
     "data": {
      "text/plain": [
       "list"
      ]
     },
     "execution_count": 10,
     "metadata": {},
     "output_type": "execute_result"
    }
   ],
   "source": [
    "primeNumbers=[2,3,5,9,11]\n",
    "type(primeNumbers)"
   ]
  },
  {
   "cell_type": "code",
   "execution_count": 12,
   "id": "3c91f622",
   "metadata": {},
   "outputs": [
    {
     "data": {
      "text/plain": [
       "9"
      ]
     },
     "execution_count": 12,
     "metadata": {},
     "output_type": "execute_result"
    }
   ],
   "source": [
    "primeNumbers[3]\n"
   ]
  },
  {
   "cell_type": "code",
   "execution_count": 13,
   "id": "da603d87",
   "metadata": {},
   "outputs": [],
   "source": [
    "primeNumbers=['King charles', 2,'Queen Elizabeth']"
   ]
  },
  {
   "cell_type": "code",
   "execution_count": 14,
   "id": "84e6fb32",
   "metadata": {},
   "outputs": [
    {
     "data": {
      "text/plain": [
       "'King charles'"
      ]
     },
     "execution_count": 14,
     "metadata": {},
     "output_type": "execute_result"
    }
   ],
   "source": [
    "primeNumbers[0]"
   ]
  },
  {
   "cell_type": "code",
   "execution_count": null,
   "id": "c6a0fbb1",
   "metadata": {},
   "outputs": [],
   "source": [
    "#the list can contain any datatype\n",
    "#the array can only contain same datatype"
   ]
  },
  {
   "cell_type": "code",
   "execution_count": 18,
   "id": "ccb2699d",
   "metadata": {},
   "outputs": [
    {
     "name": "stdout",
     "output_type": "stream",
     "text": [
      "   Time_Delay_in_Minutes  LSD_ppm  Avg_Math_Test_Score\n",
      "0                      5     1.17                78.93\n",
      "1                     15     2.97                58.20\n",
      "2                     30     3.26                67.47\n",
      "3                     60     4.69                37.47\n",
      "4                    120     5.83                45.65\n",
      "5                    240     6.00                32.92\n",
      "6                    480     6.41                29.97\n"
     ]
    }
   ],
   "source": [
    "import pandas as pd\n",
    "data=pd.read_csv('lsd_math_score_data.csv')\n",
    "print(data)\n",
    "#make sure you upload csv in same folder"
   ]
  },
  {
   "cell_type": "code",
   "execution_count": 19,
   "id": "dfa70fb6",
   "metadata": {},
   "outputs": [
    {
     "data": {
      "text/plain": [
       "pandas.core.frame.DataFrame"
      ]
     },
     "execution_count": 19,
     "metadata": {},
     "output_type": "execute_result"
    }
   ],
   "source": [
    "type(data)"
   ]
  },
  {
   "cell_type": "code",
   "execution_count": 20,
   "id": "4cc082c6",
   "metadata": {},
   "outputs": [
    {
     "data": {
      "text/plain": [
       "0    78.93\n",
       "1    58.20\n",
       "2    67.47\n",
       "3    37.47\n",
       "4    45.65\n",
       "5    32.92\n",
       "6    29.97\n",
       "Name: Avg_Math_Test_Score, dtype: float64"
      ]
     },
     "execution_count": 20,
     "metadata": {},
     "output_type": "execute_result"
    }
   ],
   "source": [
    "data['Avg_Math_Test_Score']"
   ]
  },
  {
   "cell_type": "code",
   "execution_count": 21,
   "id": "9fa129d5",
   "metadata": {},
   "outputs": [],
   "source": [
    "data['Test_Subject']='Jennifer Lopez'"
   ]
  },
  {
   "cell_type": "code",
   "execution_count": 22,
   "id": "cd9ef835",
   "metadata": {},
   "outputs": [
    {
     "name": "stdout",
     "output_type": "stream",
     "text": [
      "   Time_Delay_in_Minutes  LSD_ppm  Avg_Math_Test_Score    Test_Subject\n",
      "0                      5     1.17                78.93  Jennifer Lopez\n",
      "1                     15     2.97                58.20  Jennifer Lopez\n",
      "2                     30     3.26                67.47  Jennifer Lopez\n",
      "3                     60     4.69                37.47  Jennifer Lopez\n",
      "4                    120     5.83                45.65  Jennifer Lopez\n",
      "5                    240     6.00                32.92  Jennifer Lopez\n",
      "6                    480     6.41                29.97  Jennifer Lopez\n"
     ]
    }
   ],
   "source": [
    "print(data)"
   ]
  },
  {
   "cell_type": "code",
   "execution_count": 25,
   "id": "622989e6",
   "metadata": {},
   "outputs": [],
   "source": [
    "data['High_Score']=100\n",
    "data['Test_Subject']=data['High_Score']+data['Avg_Math_Test_Score']\n"
   ]
  },
  {
   "cell_type": "code",
   "execution_count": 24,
   "id": "14aac25e",
   "metadata": {},
   "outputs": [
    {
     "name": "stdout",
     "output_type": "stream",
     "text": [
      "   Time_Delay_in_Minutes  LSD_ppm  Avg_Math_Test_Score  Test_Subject  \\\n",
      "0                      5     1.17                78.93           101   \n",
      "1                     15     2.97                58.20           101   \n",
      "2                     30     3.26                67.47           101   \n",
      "3                     60     4.69                37.47           101   \n",
      "4                    120     5.83                45.65           101   \n",
      "5                    240     6.00                32.92           101   \n",
      "6                    480     6.41                29.97           101   \n",
      "\n",
      "   High_Score  \n",
      "0         100  \n",
      "1         100  \n",
      "2         100  \n",
      "3         100  \n",
      "4         100  \n",
      "5         100  \n",
      "6         100  \n"
     ]
    }
   ],
   "source": [
    "print(data)"
   ]
  },
  {
   "cell_type": "code",
   "execution_count": 26,
   "id": "ed403ad8",
   "metadata": {},
   "outputs": [
    {
     "name": "stdout",
     "output_type": "stream",
     "text": [
      "   Time_Delay_in_Minutes  LSD_ppm  Avg_Math_Test_Score  Test_Subject  \\\n",
      "0                      5     1.17                78.93        178.93   \n",
      "1                     15     2.97                58.20        158.20   \n",
      "2                     30     3.26                67.47        167.47   \n",
      "3                     60     4.69                37.47        137.47   \n",
      "4                    120     5.83                45.65        145.65   \n",
      "5                    240     6.00                32.92        132.92   \n",
      "6                    480     6.41                29.97        129.97   \n",
      "\n",
      "   High_Score  \n",
      "0       10000  \n",
      "1       10000  \n",
      "2       10000  \n",
      "3       10000  \n",
      "4       10000  \n",
      "5       10000  \n",
      "6       10000  \n"
     ]
    }
   ],
   "source": [
    "data['High_Score']=data['High_Score']*data['High_Score']\n",
    "print(data)"
   ]
  },
  {
   "cell_type": "code",
   "execution_count": 28,
   "id": "babf6f83",
   "metadata": {},
   "outputs": [
    {
     "data": {
      "text/plain": [
       "pandas.core.series.Series"
      ]
     },
     "execution_count": 28,
     "metadata": {},
     "output_type": "execute_result"
    }
   ],
   "source": [
    "type(data['High_Score'])\n",
    "#series has one column just like on excel"
   ]
  },
  {
   "cell_type": "code",
   "execution_count": 39,
   "id": "1368330f",
   "metadata": {},
   "outputs": [],
   "source": [
    "columnList=['High_Score', 'Avg_Math_Test_Score']"
   ]
  },
  {
   "cell_type": "code",
   "execution_count": 40,
   "id": "81c62ce5",
   "metadata": {},
   "outputs": [
    {
     "data": {
      "text/plain": [
       "list"
      ]
     },
     "execution_count": 40,
     "metadata": {},
     "output_type": "execute_result"
    }
   ],
   "source": [
    "type(columnList)"
   ]
  },
  {
   "cell_type": "code",
   "execution_count": 41,
   "id": "6bb31521",
   "metadata": {},
   "outputs": [],
   "source": [
    "cleanData=data[columnList]"
   ]
  },
  {
   "cell_type": "code",
   "execution_count": 42,
   "id": "f7c89971",
   "metadata": {},
   "outputs": [],
   "source": [
    "y=data[['Avg_Math_Test_Score']]"
   ]
  },
  {
   "cell_type": "code",
   "execution_count": 43,
   "id": "d732ae52",
   "metadata": {},
   "outputs": [
    {
     "name": "stdout",
     "output_type": "stream",
     "text": [
      "   Time_Delay_in_Minutes  LSD_ppm  Avg_Math_Test_Score  High_Score\n",
      "0                      5     1.17                78.93       10000\n",
      "1                     15     2.97                58.20       10000\n",
      "2                     30     3.26                67.47       10000\n",
      "3                     60     4.69                37.47       10000\n",
      "4                    120     5.83                45.65       10000\n",
      "5                    240     6.00                32.92       10000\n",
      "6                    480     6.41                29.97       10000\n"
     ]
    }
   ],
   "source": [
    "del data['Test_Subject']\n",
    "print(data)"
   ]
  },
  {
   "cell_type": "code",
   "execution_count": null,
   "id": "727c090b",
   "metadata": {},
   "outputs": [],
   "source": []
  }
 ],
 "metadata": {
  "kernelspec": {
   "display_name": "Python 3 (ipykernel)",
   "language": "python",
   "name": "python3"
  },
  "language_info": {
   "codemirror_mode": {
    "name": "ipython",
    "version": 3
   },
   "file_extension": ".py",
   "mimetype": "text/x-python",
   "name": "python",
   "nbconvert_exporter": "python",
   "pygments_lexer": "ipython3",
   "version": "3.9.12"
  }
 },
 "nbformat": 4,
 "nbformat_minor": 5
}
